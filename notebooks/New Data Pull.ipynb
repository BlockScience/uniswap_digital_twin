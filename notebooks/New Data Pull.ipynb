{
 "cells": [
  {
   "cell_type": "code",
   "execution_count": 24,
   "id": "6e080224",
   "metadata": {},
   "outputs": [],
   "source": [
    "query = \"\"\"query{\n",
    "  mints(where: {pair: \"0x8ae720a71622e824f576b4a8c03031066548a3b1\"},\n",
    "  orderBy: id, orderDirection: desc) {\n",
    "    id,\n",
    "    timestamp,logIndex\n",
    "  }\n",
    "}\"\"\""
   ]
  },
  {
   "cell_type": "code",
   "execution_count": null,
   "id": "756e36fe",
   "metadata": {},
   "outputs": [],
   "source": []
  },
  {
   "cell_type": "code",
   "execution_count": 30,
   "id": "128f7443",
   "metadata": {},
   "outputs": [
    {
     "ename": "NameError",
     "evalue": "name 'timestamp_gte' is not defined",
     "output_type": "error",
     "traceback": [
      "\u001b[0;31m---------------------------------------------------------------------------\u001b[0m",
      "\u001b[0;31mNameError\u001b[0m                                 Traceback (most recent call last)",
      "\u001b[0;32m<ipython-input-30-3466a759ea2a>\u001b[0m in \u001b[0;36m<module>\u001b[0;34m\u001b[0m\n\u001b[0;32m----> 1\u001b[0;31m \u001b[0mtimestamp_gte\u001b[0m\u001b[0;34m\u001b[0m\u001b[0;34m\u001b[0m\u001b[0m\n\u001b[0m\u001b[1;32m      2\u001b[0m \u001b[0mtimestamp_lte\u001b[0m\u001b[0;34m\u001b[0m\u001b[0;34m\u001b[0m\u001b[0m\n",
      "\u001b[0;31mNameError\u001b[0m: name 'timestamp_gte' is not defined"
     ]
    }
   ],
   "source": [
    "timestamp_gte\n",
    "timestamp_lte"
   ]
  },
  {
   "cell_type": "code",
   "execution_count": null,
   "id": "fa7b2de3",
   "metadata": {},
   "outputs": [],
   "source": [
    "#Add datetime constraints\n",
    "#Sort by ID\n",
    "#While the len(result) > 0\n",
    "#Pull more"
   ]
  },
  {
   "cell_type": "code",
   "execution_count": 36,
   "id": "eb1ae417",
   "metadata": {},
   "outputs": [
    {
     "ename": "ImportError",
     "evalue": "attempted relative import with no known parent package",
     "output_type": "error",
     "traceback": [
      "\u001b[0;31m---------------------------------------------------------------------------\u001b[0m",
      "\u001b[0;31mImportError\u001b[0m                               Traceback (most recent call last)",
      "\u001b[0;32m<ipython-input-36-f342873431a6>\u001b[0m in \u001b[0;36m<module>\u001b[0;34m\u001b[0m\n\u001b[0;32m----> 1\u001b[0;31m \u001b[0;32mfrom\u001b[0m \u001b[0;34m.\u001b[0m\u001b[0;34m.\u001b[0m\u001b[0muniswap_digital_twin\u001b[0m \u001b[0;32mimport\u001b[0m \u001b[0mData\u001b[0m\u001b[0;34m\u001b[0m\u001b[0;34m\u001b[0m\u001b[0m\n\u001b[0m",
      "\u001b[0;31mImportError\u001b[0m: attempted relative import with no known parent package"
     ]
    }
   ],
   "source": [
    "from ..uniswap_digital_twin import Data"
   ]
  },
  {
   "cell_type": "code",
   "execution_count": 25,
   "id": "d29ae76b",
   "metadata": {},
   "outputs": [],
   "source": [
    "import requests\n",
    "import json"
   ]
  },
  {
   "cell_type": "code",
   "execution_count": 26,
   "id": "3b13823c",
   "metadata": {},
   "outputs": [],
   "source": [
    "graph_url = 'https://api.thegraph.com/subgraphs/name/uniswap/uniswap-v2'\n",
    "#Make the request\n",
    "request = requests.post(graph_url, json={'query': query})\n",
    "    \n",
    "#Pull the json out from the text\n",
    "data = json.loads(request.text)"
   ]
  },
  {
   "cell_type": "code",
   "execution_count": 27,
   "id": "c50813aa",
   "metadata": {},
   "outputs": [],
   "source": [
    "import pandas as pd\n",
    "df = pd.DataFrame(list(data['data']['mints']))"
   ]
  },
  {
   "cell_type": "code",
   "execution_count": 29,
   "id": "b1491788",
   "metadata": {},
   "outputs": [
    {
     "data": {
      "text/html": [
       "<div>\n",
       "<style scoped>\n",
       "    .dataframe tbody tr th:only-of-type {\n",
       "        vertical-align: middle;\n",
       "    }\n",
       "\n",
       "    .dataframe tbody tr th {\n",
       "        vertical-align: top;\n",
       "    }\n",
       "\n",
       "    .dataframe thead th {\n",
       "        text-align: right;\n",
       "    }\n",
       "</style>\n",
       "<table border=\"1\" class=\"dataframe\">\n",
       "  <thead>\n",
       "    <tr style=\"text-align: right;\">\n",
       "      <th></th>\n",
       "      <th>id</th>\n",
       "      <th>logIndex</th>\n",
       "      <th>timestamp</th>\n",
       "    </tr>\n",
       "  </thead>\n",
       "  <tbody>\n",
       "    <tr>\n",
       "      <th>0</th>\n",
       "      <td>0xffd9f7b63b3d76106bfc4c7a6db6974e5846f6ac9684...</td>\n",
       "      <td>264</td>\n",
       "      <td>1616210596</td>\n",
       "    </tr>\n",
       "    <tr>\n",
       "      <th>1</th>\n",
       "      <td>0xffc8a1d4de6dd12372e9d5ad5aad9c767d3aea65b457...</td>\n",
       "      <td>198</td>\n",
       "      <td>1627878641</td>\n",
       "    </tr>\n",
       "    <tr>\n",
       "      <th>2</th>\n",
       "      <td>0xffc646084626716e7e8837177535510300a674f45b3c...</td>\n",
       "      <td>211</td>\n",
       "      <td>1614022519</td>\n",
       "    </tr>\n",
       "    <tr>\n",
       "      <th>3</th>\n",
       "      <td>0xffc55ee6666267327ce615cd07a56c8feaa69fa1772a...</td>\n",
       "      <td>171</td>\n",
       "      <td>1625433497</td>\n",
       "    </tr>\n",
       "    <tr>\n",
       "      <th>4</th>\n",
       "      <td>0xffc393afdabcf8358ae36be9588a873073eda198d6a4...</td>\n",
       "      <td>169</td>\n",
       "      <td>1613716898</td>\n",
       "    </tr>\n",
       "    <tr>\n",
       "      <th>...</th>\n",
       "      <td>...</td>\n",
       "      <td>...</td>\n",
       "      <td>...</td>\n",
       "    </tr>\n",
       "    <tr>\n",
       "      <th>95</th>\n",
       "      <td>0xfb76bfd5b36155f78a53f29eafeb21f13459578a4751...</td>\n",
       "      <td>161</td>\n",
       "      <td>1614157724</td>\n",
       "    </tr>\n",
       "    <tr>\n",
       "      <th>96</th>\n",
       "      <td>0xfb6ebbd8ed31f9f39d2630afc7adb1c6412dd97a3bd0...</td>\n",
       "      <td>127</td>\n",
       "      <td>1614101333</td>\n",
       "    </tr>\n",
       "    <tr>\n",
       "      <th>97</th>\n",
       "      <td>0xfb6d21d19218296b9f43f9f57b15d45a4fe48c43ad83...</td>\n",
       "      <td>201</td>\n",
       "      <td>1625550152</td>\n",
       "    </tr>\n",
       "    <tr>\n",
       "      <th>98</th>\n",
       "      <td>0xfb67fdf09193a2123af667dc181fc7dd0fc264d84e7c...</td>\n",
       "      <td>119</td>\n",
       "      <td>1613841680</td>\n",
       "    </tr>\n",
       "    <tr>\n",
       "      <th>99</th>\n",
       "      <td>0xfb5d392b0c9170d776f9094bcf8c19553b01427bf744...</td>\n",
       "      <td>109</td>\n",
       "      <td>1614488279</td>\n",
       "    </tr>\n",
       "  </tbody>\n",
       "</table>\n",
       "<p>100 rows × 3 columns</p>\n",
       "</div>"
      ],
      "text/plain": [
       "                                                   id logIndex   timestamp\n",
       "0   0xffd9f7b63b3d76106bfc4c7a6db6974e5846f6ac9684...      264  1616210596\n",
       "1   0xffc8a1d4de6dd12372e9d5ad5aad9c767d3aea65b457...      198  1627878641\n",
       "2   0xffc646084626716e7e8837177535510300a674f45b3c...      211  1614022519\n",
       "3   0xffc55ee6666267327ce615cd07a56c8feaa69fa1772a...      171  1625433497\n",
       "4   0xffc393afdabcf8358ae36be9588a873073eda198d6a4...      169  1613716898\n",
       "..                                                ...      ...         ...\n",
       "95  0xfb76bfd5b36155f78a53f29eafeb21f13459578a4751...      161  1614157724\n",
       "96  0xfb6ebbd8ed31f9f39d2630afc7adb1c6412dd97a3bd0...      127  1614101333\n",
       "97  0xfb6d21d19218296b9f43f9f57b15d45a4fe48c43ad83...      201  1625550152\n",
       "98  0xfb67fdf09193a2123af667dc181fc7dd0fc264d84e7c...      119  1613841680\n",
       "99  0xfb5d392b0c9170d776f9094bcf8c19553b01427bf744...      109  1614488279\n",
       "\n",
       "[100 rows x 3 columns]"
      ]
     },
     "execution_count": 29,
     "metadata": {},
     "output_type": "execute_result"
    }
   ],
   "source": [
    "df"
   ]
  },
  {
   "cell_type": "code",
   "execution_count": 23,
   "id": "c1aefbd2",
   "metadata": {},
   "outputs": [
    {
     "data": {
      "text/html": [
       "<div>\n",
       "<style scoped>\n",
       "    .dataframe tbody tr th:only-of-type {\n",
       "        vertical-align: middle;\n",
       "    }\n",
       "\n",
       "    .dataframe tbody tr th {\n",
       "        vertical-align: top;\n",
       "    }\n",
       "\n",
       "    .dataframe thead th {\n",
       "        text-align: right;\n",
       "    }\n",
       "</style>\n",
       "<table border=\"1\" class=\"dataframe\">\n",
       "  <thead>\n",
       "    <tr style=\"text-align: right;\">\n",
       "      <th></th>\n",
       "      <th>id</th>\n",
       "      <th>logIndex</th>\n",
       "      <th>timestamp</th>\n",
       "    </tr>\n",
       "  </thead>\n",
       "  <tbody>\n",
       "    <tr>\n",
       "      <th>0</th>\n",
       "      <td>0x7e8586cac9ee0bb508d4105fe8766b32d1a52a7cdc5e...</td>\n",
       "      <td>272</td>\n",
       "      <td>1627918115</td>\n",
       "    </tr>\n",
       "    <tr>\n",
       "      <th>1</th>\n",
       "      <td>0xa9c8369cc8f06f5cbca814af4c914c72982c07289908...</td>\n",
       "      <td>78</td>\n",
       "      <td>1627918107</td>\n",
       "    </tr>\n",
       "    <tr>\n",
       "      <th>2</th>\n",
       "      <td>0x15b21b06e068146849dda4da5a9cff2bcd6dafdc05fc...</td>\n",
       "      <td>213</td>\n",
       "      <td>1627918103</td>\n",
       "    </tr>\n",
       "    <tr>\n",
       "      <th>3</th>\n",
       "      <td>0xed898a95772d8f715ca35ea6ec29036fe0acc20b530b...</td>\n",
       "      <td>174</td>\n",
       "      <td>1627918066</td>\n",
       "    </tr>\n",
       "    <tr>\n",
       "      <th>4</th>\n",
       "      <td>0x2c16a94a75b76ed9b7aee4e1bbec9756d97c2b2a07c4...</td>\n",
       "      <td>239</td>\n",
       "      <td>1627918066</td>\n",
       "    </tr>\n",
       "    <tr>\n",
       "      <th>...</th>\n",
       "      <td>...</td>\n",
       "      <td>...</td>\n",
       "      <td>...</td>\n",
       "    </tr>\n",
       "    <tr>\n",
       "      <th>95</th>\n",
       "      <td>0xd62e6c7144479d8fcc25638fb7a8945c6af6061421d0...</td>\n",
       "      <td>288</td>\n",
       "      <td>1627914700</td>\n",
       "    </tr>\n",
       "    <tr>\n",
       "      <th>96</th>\n",
       "      <td>0x8bc1e098707990f3c7a34c7606e57c8308a2e0a101e7...</td>\n",
       "      <td>312</td>\n",
       "      <td>1627914700</td>\n",
       "    </tr>\n",
       "    <tr>\n",
       "      <th>97</th>\n",
       "      <td>0x3482a69088249d1c6989b25aeaa2946a74cc58f4c1f5...</td>\n",
       "      <td>300</td>\n",
       "      <td>1627914700</td>\n",
       "    </tr>\n",
       "    <tr>\n",
       "      <th>98</th>\n",
       "      <td>0x515f8ff6514b9ad76dca6ca0f60e8b32938ccbbc19bc...</td>\n",
       "      <td>405</td>\n",
       "      <td>1627914675</td>\n",
       "    </tr>\n",
       "    <tr>\n",
       "      <th>99</th>\n",
       "      <td>0xa9e4771ac927187872d4f44d7595f9f2abe1372cf006...</td>\n",
       "      <td>150</td>\n",
       "      <td>1627914615</td>\n",
       "    </tr>\n",
       "  </tbody>\n",
       "</table>\n",
       "<p>100 rows × 3 columns</p>\n",
       "</div>"
      ],
      "text/plain": [
       "                                                   id logIndex   timestamp\n",
       "0   0x7e8586cac9ee0bb508d4105fe8766b32d1a52a7cdc5e...      272  1627918115\n",
       "1   0xa9c8369cc8f06f5cbca814af4c914c72982c07289908...       78  1627918107\n",
       "2   0x15b21b06e068146849dda4da5a9cff2bcd6dafdc05fc...      213  1627918103\n",
       "3   0xed898a95772d8f715ca35ea6ec29036fe0acc20b530b...      174  1627918066\n",
       "4   0x2c16a94a75b76ed9b7aee4e1bbec9756d97c2b2a07c4...      239  1627918066\n",
       "..                                                ...      ...         ...\n",
       "95  0xd62e6c7144479d8fcc25638fb7a8945c6af6061421d0...      288  1627914700\n",
       "96  0x8bc1e098707990f3c7a34c7606e57c8308a2e0a101e7...      312  1627914700\n",
       "97  0x3482a69088249d1c6989b25aeaa2946a74cc58f4c1f5...      300  1627914700\n",
       "98  0x515f8ff6514b9ad76dca6ca0f60e8b32938ccbbc19bc...      405  1627914675\n",
       "99  0xa9e4771ac927187872d4f44d7595f9f2abe1372cf006...      150  1627914615\n",
       "\n",
       "[100 rows x 3 columns]"
      ]
     },
     "execution_count": 23,
     "metadata": {},
     "output_type": "execute_result"
    }
   ],
   "source": [
    "df"
   ]
  },
  {
   "cell_type": "code",
   "execution_count": null,
   "id": "aeff9e6a",
   "metadata": {},
   "outputs": [],
   "source": []
  }
 ],
 "metadata": {
  "kernelspec": {
   "display_name": "Python 3",
   "language": "python",
   "name": "python3"
  },
  "language_info": {
   "codemirror_mode": {
    "name": "ipython",
    "version": 3
   },
   "file_extension": ".py",
   "mimetype": "text/x-python",
   "name": "python",
   "nbconvert_exporter": "python",
   "pygments_lexer": "ipython3",
   "version": "3.9.4"
  }
 },
 "nbformat": 4,
 "nbformat_minor": 5
}
