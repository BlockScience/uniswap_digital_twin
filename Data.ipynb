{
 "cells": [
  {
   "cell_type": "code",
   "execution_count": 27,
   "id": "1b412366",
   "metadata": {},
   "outputs": [],
   "source": [
    "import requests\n",
    "import json\n",
    "import pandas as pd\n",
    "from tqdm import tqdm\n",
    "\n",
    "######Global Params#######\n",
    "graph_url = 'https://api.thegraph.com/subgraphs/name/uniswap/uniswap-v2'\n",
    "\n",
    "col_data_types = {'amount0': float, 'amount1': float, 'logIndex': int, 'liquidity': float,\n",
    "                  'amount0In': float, 'amount0Out': float, 'amount1In': float, 'amount1Out': float}\n",
    "#########################"
   ]
  },
  {
   "cell_type": "markdown",
   "id": "87dcd7fa",
   "metadata": {},
   "source": [
    "## Query Functionality"
   ]
  },
  {
   "cell_type": "code",
   "execution_count": 28,
   "id": "c3b5fd9d",
   "metadata": {},
   "outputs": [],
   "source": [
    "def process_query(query, data_field, graph_url):\n",
    "    \"\"\"\n",
    "    Helper function to take a query and retrieve the data.\n",
    "    query (str): The query to be executed\n",
    "    data_field (str): The data field to be pulled out\n",
    "    graph_url (str): The url of the subgraph\n",
    "    \"\"\"\n",
    "    \n",
    "    #Make the request\n",
    "    request = requests.post(graph_url, json={'query': query})\n",
    "    \n",
    "    #Pull the json out from the text\n",
    "    data = json.loads(request.text)\n",
    "    \n",
    "    #Pull out the relevant data field\n",
    "    data = data['data'][data_field]\n",
    "    \n",
    "    return data\n",
    "\n",
    "def convert_where_clause(clause):\n",
    "    out = \"{\"\n",
    "    for key in clause.keys():\n",
    "        out += \"{}: \".format(key)\n",
    "        out += '\"{}\"'.format(clause[key])\n",
    "        out += \",\"\n",
    "    out += \"}\"\n",
    "    return out\n",
    "\n",
    "def query_builder(main, fields,\n",
    "                  where_clause=None, first=None, skip=None,\n",
    "                 order_by=None, order_direction=None):\n",
    "    \"\"\"\n",
    "    main (str): The main query that is being run\n",
    "    fields (list[str]): A list of strings representing each field we want to pull\n",
    "    where_clause (dict): A dictionary of clauses for filtering with the where statement\n",
    "    first (int): Number of records to grab (maximum 1000)\n",
    "    skip (int): Number of records to skip (maximum 5000)\n",
    "    order_by (str): Field to order by\n",
    "    order_direction (str): The direction of ordering for the field\n",
    "    \"\"\"\n",
    "    #Convert the where clause\n",
    "    where_clause = convert_where_clause(where_clause)\n",
    "    \n",
    "    #Clauses for the main function\n",
    "    main_clauses = []\n",
    "    if first:\n",
    "        main_clauses.append(\"first: {}\".format(first))\n",
    "    if skip:\n",
    "        main_clauses.append(\"skip: {}\".format(skip))\n",
    "    if order_by:\n",
    "        main_clauses.append(\"orderBy: {}\".format(order_by))\n",
    "    if order_direction:\n",
    "        main_clauses.append(\"orderDirection: {}\".format(order_direction))\n",
    "    if where_clause:\n",
    "        main_clauses.append(\"where: {}\".format(where_clause))\n",
    "    \n",
    "    #Convert clauses to a string\n",
    "    main_clauses = \", \".join(main_clauses)\n",
    "    \n",
    "    #Convert fields to a string\n",
    "    fields = \", \".join(fields)\n",
    "    \n",
    "    \n",
    "\n",
    "\n",
    "    query = \"\"\"query{{\n",
    "    {}({}){{\n",
    "    {}\n",
    "    }}\n",
    "    }}\"\"\".format(main, main_clauses, fields)\n",
    "    return query\n",
    "\n",
    "def pull_data(query_function, field):\n",
    "    \"\"\"\n",
    "    Function to pull 6000 rows of data\n",
    "    \"\"\"\n",
    "    \n",
    "    #Iterate over the chunks\n",
    "    data = []\n",
    "    for i in tqdm(range(0, 6000, 1000)):\n",
    "        #Build query\n",
    "        query = query_function(i)\n",
    "        \n",
    "        #Extract data\n",
    "        data.extend(process_query(query, field, graph_url))\n",
    "        \n",
    "    #Convert to dataframe\n",
    "    data = pd.DataFrame(data)\n",
    "    data['timestamp'] = pd.to_datetime(data['timestamp'], unit = 's')\n",
    "    data['event'] = field\n",
    "    \n",
    "    #Create mapping of column data types\n",
    "    cdt = {}\n",
    "    for col in data.columns:\n",
    "        if col in col_data_types.keys():\n",
    "            cdt[col] = col_data_types[col]\n",
    "            \n",
    "    #Map the data types\n",
    "    data = data.astype(cdt)\n",
    "    \n",
    "    return data"
   ]
  },
  {
   "cell_type": "markdown",
   "id": "6be5a100",
   "metadata": {},
   "source": [
    "## Queries"
   ]
  },
  {
   "cell_type": "code",
   "execution_count": 29,
   "id": "5bf91bb3",
   "metadata": {},
   "outputs": [
    {
     "name": "stderr",
     "output_type": "stream",
     "text": [
      "100%|██████████| 6/6 [00:02<00:00,  2.50it/s]\n",
      "100%|██████████| 6/6 [00:02<00:00,  2.61it/s]\n",
      "100%|██████████| 6/6 [00:01<00:00,  4.22it/s]\n"
     ]
    }
   ],
   "source": [
    "mint_query = lambda i: query_builder(\"mints\",\n",
    "                  [\"timestamp\", \"amount0\", \"amount1\", \"logIndex\", \"liquidity\"],\n",
    "                 first=1000, skip=i, order_by=\"timestamp\", order_direction=\"desc\",\n",
    "                         where_clause={\"pair\": \"0xa478c2975ab1ea89e8196811f51a7b7ade33eb11\"})\n",
    "\n",
    "burns_query = lambda i: query_builder(\"burns\",\n",
    "                  [\"timestamp\", \"amount0\", \"amount1\", \"logIndex\", \"liquidity\"],\n",
    "                 first=1000, skip=i, order_by=\"timestamp\", order_direction=\"desc\",\n",
    "                         where_clause={\"pair\": \"0xa478c2975ab1ea89e8196811f51a7b7ade33eb11\"})\n",
    "\n",
    "swaps_query = lambda i: query_builder(\"swaps\",\n",
    "                  [\"timestamp\", \"amount0In\", \"amount1In\", \"amount0Out\", \"amount1Out\",\"logIndex\"],\n",
    "                 first=1000, skip=i, order_by=\"timestamp\", order_direction=\"desc\",\n",
    "                         where_clause={\"pair\": \"0xa478c2975ab1ea89e8196811f51a7b7ade33eb11\"})\n",
    "\n",
    "queries = [mint_query, burns_query, swaps_query]\n",
    "fields = [\"mints\", \"burns\", \"swaps\"]\n",
    "data = [pull_data(q, f) for q, f in zip(queries, fields)]"
   ]
  },
  {
   "cell_type": "markdown",
   "id": "4756e442",
   "metadata": {},
   "source": [
    "## Processing Functions\n",
    "\n"
   ]
  },
  {
   "cell_type": "code",
   "execution_count": 30,
   "id": "4842bac6",
   "metadata": {},
   "outputs": [],
   "source": [
    "def find_data_overlap(data):\n",
    "    \"\"\"\n",
    "    Function to find the earliest date that ensures data overlap.\n",
    "    \"\"\"\n",
    "    return max([df['timestamp'].min() for df in data])\n",
    "\n",
    "def process_amount(df):\n",
    "    if df['event'].iloc[0] == 'mints':\n",
    "        pass\n",
    "    elif df['event'].iloc[0] == 'burns':\n",
    "        df[['amount0', 'amount1', 'liquidity']] *= -1\n",
    "    elif df['event'].iloc[0] == 'swaps':\n",
    "        df['amount0'] = df['amount0Out'] - df['amount0In']\n",
    "        df['amount1'] = df['amount1Out'] - df['amount1In']\n",
    "        df['liquidity'] = 0\n",
    "        df.drop(columns=['amount0Out', 'amount0In', 'amount1Out', 'amount1In'], inplace=True)\n",
    "        \n",
    "def process_events(df):\n",
    "    if df['event'].iloc[0] == 'mints':\n",
    "        df['event'] = 'mint'\n",
    "    elif df['event'].iloc[0] == 'burns':\n",
    "        df['event'] = 'burn'\n",
    "    elif df['event'].iloc[0] == 'swaps':\n",
    "        df['event'] = (df['amount0'] > 0).map({True: 'ethPurchase', False: 'tokenPurchase'})\n",
    "\n",
    "def process_data(data, lim_date=False):\n",
    "    #Do all data processing\n",
    "    for df in data:\n",
    "        process_amount(df)\n",
    "        process_events(df)\n",
    "    \n",
    "    #Consider only overlapping data\n",
    "    if lim_date:\n",
    "        overlap_date = find_data_overlap(data)\n",
    "        data = [df[df['timestamp'] >= overlap_date] for df in data]\n",
    "    \n",
    "    #Concat\n",
    "    data = pd.concat(data)\n",
    "    \n",
    "    #Rename columns\n",
    "    data = data.rename(columns={'amount0': 'token_delta', 'amount1': 'eth_delta', 'liquidity': 'UNI_delta'})\n",
    "    \n",
    "    #Indexing\n",
    "    data = data.sort_values(['timestamp', 'logIndex'])\n",
    "    data.reset_index(inplace = True, drop = True)\n",
    "    \n",
    "    #Find balances over time\n",
    "    for col1, col2 in zip(['token_balance', 'eth_balance', 'UNI_supply'], ['token_delta', 'eth_delta', 'UNI_delta']):\n",
    "        data[col1] = data[col2].cumsum()\n",
    "    \n",
    "    print(\"TODO: ADD IN GENESIS STATE\")\n",
    "    \n",
    "    return data"
   ]
  },
  {
   "cell_type": "code",
   "execution_count": 31,
   "id": "d0ead0a3",
   "metadata": {},
   "outputs": [
    {
     "name": "stdout",
     "output_type": "stream",
     "text": [
      "TODO: ADD IN GENESIS STATE\n"
     ]
    }
   ],
   "source": [
    "data = process_data(data, lim_date=True)"
   ]
  },
  {
   "cell_type": "code",
   "execution_count": 32,
   "id": "8514f58f",
   "metadata": {},
   "outputs": [
    {
     "name": "stdout",
     "output_type": "stream",
     "text": [
      "event\n",
      "burn            2021-07-06 17:38:56\n",
      "ethPurchase     2021-07-06 14:51:43\n",
      "mint            2021-07-06 18:51:57\n",
      "tokenPurchase   2021-07-06 14:47:29\n",
      "Name: timestamp, dtype: datetime64[ns]\n"
     ]
    }
   ],
   "source": [
    "print(data.groupby('event')['timestamp'].min())"
   ]
  },
  {
   "cell_type": "code",
   "execution_count": 35,
   "id": "5fe2446a",
   "metadata": {},
   "outputs": [
    {
     "data": {
      "text/html": [
       "<div>\n",
       "<style scoped>\n",
       "    .dataframe tbody tr th:only-of-type {\n",
       "        vertical-align: middle;\n",
       "    }\n",
       "\n",
       "    .dataframe tbody tr th {\n",
       "        vertical-align: top;\n",
       "    }\n",
       "\n",
       "    .dataframe thead th {\n",
       "        text-align: right;\n",
       "    }\n",
       "</style>\n",
       "<table border=\"1\" class=\"dataframe\">\n",
       "  <thead>\n",
       "    <tr style=\"text-align: right;\">\n",
       "      <th></th>\n",
       "      <th>token_delta</th>\n",
       "      <th>eth_delta</th>\n",
       "      <th>UNI_delta</th>\n",
       "      <th>logIndex</th>\n",
       "      <th>timestamp</th>\n",
       "      <th>event</th>\n",
       "      <th>token_balance</th>\n",
       "      <th>eth_balance</th>\n",
       "      <th>UNI_supply</th>\n",
       "    </tr>\n",
       "  </thead>\n",
       "  <tbody>\n",
       "    <tr>\n",
       "      <th>0</th>\n",
       "      <td>-1000.000000</td>\n",
       "      <td>0.432913</td>\n",
       "      <td>0.0</td>\n",
       "      <td>193</td>\n",
       "      <td>2021-07-06 14:47:29</td>\n",
       "      <td>tokenPurchase</td>\n",
       "      <td>-1.000000e+03</td>\n",
       "      <td>0.432913</td>\n",
       "      <td>0.000000</td>\n",
       "    </tr>\n",
       "    <tr>\n",
       "      <th>1</th>\n",
       "      <td>23.625792</td>\n",
       "      <td>-0.010289</td>\n",
       "      <td>0.0</td>\n",
       "      <td>241</td>\n",
       "      <td>2021-07-06 14:51:43</td>\n",
       "      <td>ethPurchase</td>\n",
       "      <td>-9.763742e+02</td>\n",
       "      <td>0.422624</td>\n",
       "      <td>0.000000</td>\n",
       "    </tr>\n",
       "    <tr>\n",
       "      <th>2</th>\n",
       "      <td>-3248.875333</td>\n",
       "      <td>1.406327</td>\n",
       "      <td>0.0</td>\n",
       "      <td>328</td>\n",
       "      <td>2021-07-06 14:51:47</td>\n",
       "      <td>tokenPurchase</td>\n",
       "      <td>-4.225250e+03</td>\n",
       "      <td>1.828951</td>\n",
       "      <td>0.000000</td>\n",
       "    </tr>\n",
       "    <tr>\n",
       "      <th>3</th>\n",
       "      <td>-5000.000000</td>\n",
       "      <td>2.163864</td>\n",
       "      <td>0.0</td>\n",
       "      <td>213</td>\n",
       "      <td>2021-07-06 14:56:53</td>\n",
       "      <td>tokenPurchase</td>\n",
       "      <td>-9.225250e+03</td>\n",
       "      <td>3.992815</td>\n",
       "      <td>0.000000</td>\n",
       "    </tr>\n",
       "    <tr>\n",
       "      <th>4</th>\n",
       "      <td>-299.000000</td>\n",
       "      <td>0.129381</td>\n",
       "      <td>0.0</td>\n",
       "      <td>198</td>\n",
       "      <td>2021-07-06 14:58:06</td>\n",
       "      <td>tokenPurchase</td>\n",
       "      <td>-9.524250e+03</td>\n",
       "      <td>4.122196</td>\n",
       "      <td>0.000000</td>\n",
       "    </tr>\n",
       "    <tr>\n",
       "      <th>...</th>\n",
       "      <td>...</td>\n",
       "      <td>...</td>\n",
       "      <td>...</td>\n",
       "      <td>...</td>\n",
       "      <td>...</td>\n",
       "      <td>...</td>\n",
       "      <td>...</td>\n",
       "      <td>...</td>\n",
       "      <td>...</td>\n",
       "    </tr>\n",
       "    <tr>\n",
       "      <th>6104</th>\n",
       "      <td>-185.651074</td>\n",
       "      <td>0.096105</td>\n",
       "      <td>0.0</td>\n",
       "      <td>205</td>\n",
       "      <td>2021-07-13 20:15:06</td>\n",
       "      <td>tokenPurchase</td>\n",
       "      <td>2.618163e+06</td>\n",
       "      <td>-1826.753692</td>\n",
       "      <td>-8051.777519</td>\n",
       "    </tr>\n",
       "    <tr>\n",
       "      <th>6105</th>\n",
       "      <td>-77083.441527</td>\n",
       "      <td>39.814405</td>\n",
       "      <td>0.0</td>\n",
       "      <td>34</td>\n",
       "      <td>2021-07-13 20:15:56</td>\n",
       "      <td>tokenPurchase</td>\n",
       "      <td>2.541079e+06</td>\n",
       "      <td>-1786.939287</td>\n",
       "      <td>-8051.777519</td>\n",
       "    </tr>\n",
       "    <tr>\n",
       "      <th>6106</th>\n",
       "      <td>578.620320</td>\n",
       "      <td>-0.300000</td>\n",
       "      <td>0.0</td>\n",
       "      <td>304</td>\n",
       "      <td>2021-07-13 20:17:02</td>\n",
       "      <td>ethPurchase</td>\n",
       "      <td>2.541658e+06</td>\n",
       "      <td>-1787.239287</td>\n",
       "      <td>-8051.777519</td>\n",
       "    </tr>\n",
       "    <tr>\n",
       "      <th>6107</th>\n",
       "      <td>-567.527309</td>\n",
       "      <td>0.292486</td>\n",
       "      <td>0.0</td>\n",
       "      <td>26</td>\n",
       "      <td>2021-07-13 20:18:03</td>\n",
       "      <td>tokenPurchase</td>\n",
       "      <td>2.541091e+06</td>\n",
       "      <td>-1786.946801</td>\n",
       "      <td>-8051.777519</td>\n",
       "    </tr>\n",
       "    <tr>\n",
       "      <th>6108</th>\n",
       "      <td>-6248.335872</td>\n",
       "      <td>3.219565</td>\n",
       "      <td>0.0</td>\n",
       "      <td>340</td>\n",
       "      <td>2021-07-13 20:18:24</td>\n",
       "      <td>tokenPurchase</td>\n",
       "      <td>2.534842e+06</td>\n",
       "      <td>-1783.727237</td>\n",
       "      <td>-8051.777519</td>\n",
       "    </tr>\n",
       "  </tbody>\n",
       "</table>\n",
       "<p>6109 rows × 9 columns</p>\n",
       "</div>"
      ],
      "text/plain": [
       "       token_delta  eth_delta  UNI_delta  logIndex           timestamp  \\\n",
       "0     -1000.000000   0.432913        0.0       193 2021-07-06 14:47:29   \n",
       "1        23.625792  -0.010289        0.0       241 2021-07-06 14:51:43   \n",
       "2     -3248.875333   1.406327        0.0       328 2021-07-06 14:51:47   \n",
       "3     -5000.000000   2.163864        0.0       213 2021-07-06 14:56:53   \n",
       "4      -299.000000   0.129381        0.0       198 2021-07-06 14:58:06   \n",
       "...            ...        ...        ...       ...                 ...   \n",
       "6104   -185.651074   0.096105        0.0       205 2021-07-13 20:15:06   \n",
       "6105 -77083.441527  39.814405        0.0        34 2021-07-13 20:15:56   \n",
       "6106    578.620320  -0.300000        0.0       304 2021-07-13 20:17:02   \n",
       "6107   -567.527309   0.292486        0.0        26 2021-07-13 20:18:03   \n",
       "6108  -6248.335872   3.219565        0.0       340 2021-07-13 20:18:24   \n",
       "\n",
       "              event  token_balance  eth_balance   UNI_supply  \n",
       "0     tokenPurchase  -1.000000e+03     0.432913     0.000000  \n",
       "1       ethPurchase  -9.763742e+02     0.422624     0.000000  \n",
       "2     tokenPurchase  -4.225250e+03     1.828951     0.000000  \n",
       "3     tokenPurchase  -9.225250e+03     3.992815     0.000000  \n",
       "4     tokenPurchase  -9.524250e+03     4.122196     0.000000  \n",
       "...             ...            ...          ...          ...  \n",
       "6104  tokenPurchase   2.618163e+06 -1826.753692 -8051.777519  \n",
       "6105  tokenPurchase   2.541079e+06 -1786.939287 -8051.777519  \n",
       "6106    ethPurchase   2.541658e+06 -1787.239287 -8051.777519  \n",
       "6107  tokenPurchase   2.541091e+06 -1786.946801 -8051.777519  \n",
       "6108  tokenPurchase   2.534842e+06 -1783.727237 -8051.777519  \n",
       "\n",
       "[6109 rows x 9 columns]"
      ]
     },
     "execution_count": 35,
     "metadata": {},
     "output_type": "execute_result"
    }
   ],
   "source": [
    "data"
   ]
  },
  {
   "cell_type": "code",
   "execution_count": 24,
   "id": "a0a6578f",
   "metadata": {},
   "outputs": [
    {
     "data": {
      "text/plain": [
       "<AxesSubplot:ylabel='Frequency'>"
      ]
     },
     "execution_count": 24,
     "metadata": {},
     "output_type": "execute_result"
    },
    {
     "data": {
      "image/png": "[encoded data removed]",
      "text/plain": [
       "<Figure size 432x288 with 1 Axes>"
      ]
     },
     "metadata": {
      "needs_background": "light"
     },
     "output_type": "display_data"
    }
   ],
   "source": [
    "data[data['event'] == 'mint']['timestamp'].astype(int).plot.hist()"
   ]
  },
  {
   "cell_type": "code",
   "execution_count": 26,
   "id": "e111b193",
   "metadata": {},
   "outputs": [],
   "source": [
    "import pandas as pd\n",
    "pd.read_csv(\"../uni-swap-graph\")"
   ]
  },
  {
   "cell_type": "code",
   "execution_count": 33,
   "id": "f21544a8",
   "metadata": {},
   "outputs": [
    {
     "data": {
      "text/plain": [
       "event\n",
       "burn               77\n",
       "ethPurchase      3111\n",
       "mint               32\n",
       "tokenPurchase    2889\n",
       "dtype: int64"
      ]
     },
     "execution_count": 33,
     "metadata": {},
     "output_type": "execute_result"
    }
   ],
   "source": [
    "data.groupby('event').size()"
   ]
  },
  {
   "cell_type": "markdown",
   "id": "095ccdcb",
   "metadata": {},
   "source": [
    "### To Do:\n",
    "\n",
    "1. Genesis state methodology.\n",
    "\n",
    "Minimum date"
   ]
  },
  {
   "cell_type": "code",
   "execution_count": 34,
   "id": "07971a8a",
   "metadata": {},
   "outputs": [
    {
     "name": "stdout",
     "output_type": "stream",
     "text": [
      "2021-07-06 14:47:29\n"
     ]
    }
   ],
   "source": [
    "print(data.groupby('event')['timestamp'].min().min())"
   ]
  },
  {
   "cell_type": "code",
   "execution_count": null,
   "id": "c10c3a91",
   "metadata": {},
   "outputs": [],
   "source": [
    "2021-07-06 15"
   ]
  }
 ],
 "metadata": {
  "kernelspec": {
   "display_name": "Python 3",
   "language": "python",
   "name": "python3"
  },
  "language_info": {
   "codemirror_mode": {
    "name": "ipython",
    "version": 3
   },
   "file_extension": ".py",
   "mimetype": "text/x-python",
   "name": "python",
   "nbconvert_exporter": "python",
   "pygments_lexer": "ipython3",
   "version": "3.9.4"
  }
 },
 "nbformat": 4,
 "nbformat_minor": 5
}
